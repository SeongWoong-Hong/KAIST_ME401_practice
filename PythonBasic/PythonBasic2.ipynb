{
  "nbformat": 4,
  "nbformat_minor": 0,
  "metadata": {
    "colab": {
      "name": "PythonBasic2.ipynb",
      "provenance": [],
      "collapsed_sections": [],
      "authorship_tag": "ABX9TyP8BVkVtbT2geRl2dvdiXOb",
      "include_colab_link": true
    },
    "kernelspec": {
      "name": "python3",
      "display_name": "Python 3"
    }
  },
  "cells": [
    {
      "cell_type": "markdown",
      "metadata": {
        "id": "view-in-github",
        "colab_type": "text"
      },
      "source": [
        "<a href=\"https://colab.research.google.com/github/SeongWoong-Hong/TA_session/blob/master/PythonBasic/PythonBasic2.ipynb\" target=\"_parent\"><img src=\"https://colab.research.google.com/assets/colab-badge.svg\" alt=\"Open In Colab\"/></a>"
      ]
    },
    {
      "cell_type": "markdown",
      "metadata": {
        "id": "mh1ROETSNLRn",
        "colab_type": "text"
      },
      "source": [
        "# **Python Basic 2**\n",
        "\n",
        "This cource based on the Python so briefly introduce the basic concept of the Python first.\n",
        "\n",
        "The expert knowledge about Python is not mandatory. You can take this course whenever have only basic knowledge of Python."
      ]
    },
    {
      "cell_type": "markdown",
      "metadata": {
        "id": "VKe0fsOtNXsn",
        "colab_type": "text"
      },
      "source": [
        "## **1. if statement**\n",
        "\n",
        "The `if` statement execute the following code when the condition is true. Condition line of the `if` statement must be ended by colon(`:`)\n",
        "\n",
        "It works perfectly same as another languages' `if` statement. However, unlike C/C++ or MATLAB, you have to take care about indentation. Python distinguish the line is in this statement or not through indentation. This indentation rule is generally applied for while loop, for loop, function definition or class definition so please check the indentation more than once when you conduct the Python code.\n",
        "\n",
        "You can use `else` and `elif` also. The `else` statement is executed when the all above `if` statement's condtions are false. The `elif` means else if, so this statement is executed when the all above statement's conditions are false and its condition is true.\n",
        "\n",
        "Here's the example of the `if` statement. `input()` function returns the string that user entering."
      ]
    },
    {
      "cell_type": "code",
      "metadata": {
        "id": "HxbXAC-mWeUy",
        "colab_type": "code",
        "colab": {}
      },
      "source": [
        "x = input()\n",
        "\n",
        "if x == \"a\":\n",
        "  print(\"x is a\")\n",
        "elif x == \"b\":\n",
        "  print(\"x is b\")\n",
        "else:\n",
        "  print(\"please enter a or b\")"
      ],
      "execution_count": null,
      "outputs": []
    },
    {
      "cell_type": "markdown",
      "metadata": {
        "id": "ORJrLKtLYNGa",
        "colab_type": "text"
      },
      "source": [
        "### **Logical Operator**\n",
        "\n",
        "To make a proper condition, you should use proper logical operator.\n",
        "\n",
        "The basic logical operators, `>`, `<`, `>=` and `<=` compare the magnitude of the data. They can compare not only the values of number data type but also string data type based on their ASCII code value. `ord()` function returns the ASCII code value.\n",
        "\n",
        "`==` returns two values are same or not and `!=` returns two values are differenct or not."
      ]
    },
    {
      "cell_type": "code",
      "metadata": {
        "id": "UrRlI6HcaAs1",
        "colab_type": "code",
        "colab": {}
      },
      "source": [
        "print(23 > 42)\n",
        "print('x' < 'y')\n",
        "print(ord('x'))\n",
        "print(ord('y'))\n",
        "print(3 == 4)\n",
        "print(3 != 4)"
      ],
      "execution_count": null,
      "outputs": []
    },
    {
      "cell_type": "markdown",
      "metadata": {
        "id": "Qgruj5Q2bOiq",
        "colab_type": "text"
      },
      "source": [
        "You can also deal with multiple condtions. By using `and` or `or` operator, your statement will be executed when all conditions are satisfied or when one of them is satisfied.\n",
        "\n",
        "Also you can execute the statement when the condition is not true with `not` operator.\n",
        "\n",
        "`int()` function convert the input to the integer type."
      ]
    },
    {
      "cell_type": "code",
      "metadata": {
        "id": "grSFVTXTdQFY",
        "colab_type": "code",
        "colab": {}
      },
      "source": [
        "x = int(input())\n",
        "\n",
        "if x > 10 and x % 2 == 0:\n",
        "    print(\"x is even and larger than 10.\")\n",
        "elif x < 10 or not x % 2 == 0:\n",
        "    print(\"x is 10 odd or smaller than 10.\")\n",
        "else:\n",
        "    print(\"x is 10.\")"
      ],
      "execution_count": null,
      "outputs": []
    },
    {
      "cell_type": "markdown",
      "metadata": {
        "id": "oMcK8fddqWlt",
        "colab_type": "text"
      },
      "source": [
        "Python has special logical operators, not appeared in other programming languages.\n",
        "\n",
        "`in` and `not in` operators return True/False if there are number or string in list, tuple or string."
      ]
    },
    {
      "cell_type": "code",
      "metadata": {
        "id": "c9Hfaq34roi6",
        "colab_type": "code",
        "colab": {}
      },
      "source": [
        "x = input()\n",
        "\n",
        "if x in ['a', 'b', 'c']:\n",
        "    print(\"x is in a, b or c.\")\n",
        "    if x not in ['a', 'c']:\n",
        "        print(\"x is not in a or c.\")\n",
        "    else:\n",
        "        print(\"x is in a or c.\")\n",
        "elif x in ['d', 'e', 'f']:\n",
        "    print(\"x is in d, e or f.\")\n",
        "else:\n",
        "    print(\"x is not in anywhere.\")"
      ],
      "execution_count": null,
      "outputs": []
    },
    {
      "cell_type": "markdown",
      "metadata": {
        "id": "5OtF3N9KsnCl",
        "colab_type": "text"
      },
      "source": [
        "## **2. While loop**\n",
        "\n",
        "The while statement is also similar with other languages'. Please be care for that the while statment also follows same indentation rules with the if statement.\n",
        "\n",
        "The code below is the example for the while statement that will be end when the balance is larger or equal to 10,000 or smaller or equal to zero. `continue` is function that returns to the condition of the statement."
      ]
    },
    {
      "cell_type": "code",
      "metadata": {
        "id": "iDaCgoU0NDtK",
        "colab_type": "code",
        "colab": {}
      },
      "source": [
        "money = 5000\n",
        "\n",
        "while True:\n",
        "    deal = int(input(\"income or expense: \"))\n",
        "    money += deal\n",
        "    if deal == 0: continue\n",
        "    if money >= 10000:\n",
        "        print(\"Succeed, Balance: \", money)\n",
        "        break\n",
        "    elif money <= 0:\n",
        "        print(\"Bankrupt, Balance: \", money)\n",
        "        break\n",
        "    else:\n",
        "        print(\"Balance : \", money)"
      ],
      "execution_count": null,
      "outputs": []
    },
    {
      "cell_type": "markdown",
      "metadata": {
        "id": "-P17gAoLyDzU",
        "colab_type": "text"
      },
      "source": [
        "### **3. for loop**\n",
        "\n",
        "The for loop of Python is quite different with other languages'. The Python for loop assign variable sequentially from the first element of the list data type using `in`.\n",
        "\n",
        "The for loop is frequently used with the `range` function. The `range` function returns sequential integer list."
      ]
    },
    {
      "cell_type": "code",
      "metadata": {
        "id": "O66j0LCKzlgd",
        "colab_type": "code",
        "colab": {}
      },
      "source": [
        "list = [1, 2, 3]\n",
        "for i in list:\n",
        "  print(i)\n",
        "\n",
        "for i in range(4):\n",
        "  print(i)\n",
        "\n",
        "list = [(1, 2), (3, 4), (5, 6)]\n",
        "i = 0\n",
        "for a, b in list:\n",
        "  i += 1\n",
        "  print(i, \": \", a, b, a+b)"
      ],
      "execution_count": null,
      "outputs": []
    }
  ]
}