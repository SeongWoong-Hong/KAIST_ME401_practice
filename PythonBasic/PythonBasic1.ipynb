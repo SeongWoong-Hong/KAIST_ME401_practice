{
  "nbformat": 4,
  "nbformat_minor": 0,
  "metadata": {
    "colab": {
      "name": "PythonBasic1.ipynb",
      "provenance": [],
      "collapsed_sections": [],
      "authorship_tag": "ABX9TyOM3r/j9Vy9PP1IFOyMVi0l",
      "include_colab_link": true
    },
    "kernelspec": {
      "name": "python3",
      "display_name": "Python 3"
    }
  },
  "cells": [
    {
      "cell_type": "markdown",
      "metadata": {
        "id": "view-in-github",
        "colab_type": "text"
      },
      "source": [
        "<a href=\"https://colab.research.google.com/github/SeongWoong-Hong/TA_session/blob/master/PythonBasic/PythonBasic1.ipynb\" target=\"_parent\"><img src=\"https://colab.research.google.com/assets/colab-badge.svg\" alt=\"Open In Colab\"/></a>"
      ]
    },
    {
      "cell_type": "markdown",
      "metadata": {
        "id": "IYiziCNKxJRt",
        "colab_type": "text"
      },
      "source": [
        "# **Python Basic 1**\n",
        "\n",
        "This cource based on the Python so briefly introduce the basic concept of the Python first.\n",
        "\n",
        "The expert knowledge about Python is not mandatory. You can take this course whenever have only basic knowledge of Python."
      ]
    },
    {
      "cell_type": "markdown",
      "metadata": {
        "id": "a8YiAbi5Duqd",
        "colab_type": "text"
      },
      "source": [
        "## **1. Number**\n",
        "\n",
        "### **Type of number data**\n",
        "\n",
        "There are some types of number data in Python. They are int, float and complex."
      ]
    },
    {
      "cell_type": "code",
      "metadata": {
        "id": "jFnFwU_OEt_D",
        "colab_type": "code",
        "colab": {}
      },
      "source": [
        "print(5, 5.0, 5+3j)"
      ],
      "execution_count": null,
      "outputs": []
    },
    {
      "cell_type": "markdown",
      "metadata": {
        "id": "gkj9JTXyE2N9",
        "colab_type": "text"
      },
      "source": [
        "You can use the `type()` function to know which class a variable or a value belongs to."
      ]
    },
    {
      "cell_type": "code",
      "metadata": {
        "id": "QbqoU1FhE-us",
        "colab_type": "code",
        "colab": {}
      },
      "source": [
        "print(type(5), type(5.0), type(5+3j))"
      ],
      "execution_count": null,
      "outputs": []
    },
    {
      "cell_type": "markdown",
      "metadata": {
        "id": "lLnqVg-eFj66",
        "colab_type": "text"
      },
      "source": [
        "### **Basic calculation using Python**\n",
        "\n",
        "You can do some basic calculation using `+`, `-`, `*` and `/`.\n",
        "\n",
        "Also, obviously, you can control the order of calculation by using `(`, `)`. Please take some practice in the code cell below."
      ]
    },
    {
      "cell_type": "code",
      "metadata": {
        "id": "bBlW4xXAHstc",
        "colab_type": "code",
        "colab": {}
      },
      "source": [
        "## please do some practice in here! ex. 4 + 3 * 6 = 22\n",
        "17 + 3"
      ],
      "execution_count": null,
      "outputs": []
    },
    {
      "cell_type": "markdown",
      "metadata": {
        "id": "zo0v-MvxI18q",
        "colab_type": "text"
      },
      "source": [
        "Also there are some additional operator.\n",
        "\n",
        "You can use ** for power operation, % for remainder and // for share operation."
      ]
    },
    {
      "cell_type": "code",
      "metadata": {
        "id": "ISKzAvKQJYNS",
        "colab_type": "code",
        "colab": {}
      },
      "source": [
        "print(7 ** 3, 7 % 3, 7 // 3)"
      ],
      "execution_count": null,
      "outputs": []
    },
    {
      "cell_type": "markdown",
      "metadata": {
        "id": "ZWTeyMPSMfvo",
        "colab_type": "text"
      },
      "source": [
        "## **2. String**\n",
        "\n",
        "Strings are small pieces of text that you can use in your programs. You can simply write some text in quotes to create strings.\n",
        "\n",
        "You can use either single or double quotes."
      ]
    },
    {
      "cell_type": "code",
      "metadata": {
        "id": "y_U9qV8pNCIx",
        "colab_type": "code",
        "colab": {}
      },
      "source": [
        "print(\"hello\")\n",
        "print('hello')\n",
        "\n",
        "print(\"\"\"\n",
        "hello\n",
        "This cource is\n",
        "ME491\n",
        "\"\"\")\n",
        "\n",
        "print('''\n",
        "hello\n",
        "This cource is\n",
        "ME491\n",
        "''')"
      ],
      "execution_count": null,
      "outputs": []
    },
    {
      "cell_type": "markdown",
      "metadata": {
        "id": "1QdzdOs7N9Pg",
        "colab_type": "text"
      },
      "source": [
        "## **3. Variables**\n",
        "\n",
        "Variables are nothing but point to values. They can point any type of value data like int, string... etc."
      ]
    },
    {
      "cell_type": "code",
      "metadata": {
        "id": "YQcZqg3DSs0z",
        "colab_type": "code",
        "colab": {}
      },
      "source": [
        "a = 1\n",
        "b = 'string'\n",
        "\n",
        "print(a, b)"
      ],
      "execution_count": null,
      "outputs": []
    },
    {
      "cell_type": "markdown",
      "metadata": {
        "id": "3ORkEFalSw5h",
        "colab_type": "text"
      },
      "source": [
        "You can also change the pointing value of the variables."
      ]
    },
    {
      "cell_type": "code",
      "metadata": {
        "id": "zr05ygEZTOug",
        "colab_type": "code",
        "colab": {}
      },
      "source": [
        "a = 2\n",
        "print(a)\n",
        "a = a + 1\n",
        "print(a)\n",
        "a += 1\n",
        "print(a)\n",
        "b *= 3\n",
        "print(b)"
      ],
      "execution_count": null,
      "outputs": []
    },
    {
      "cell_type": "markdown",
      "metadata": {
        "id": "TupYDBdsTxOo",
        "colab_type": "text"
      },
      "source": [
        "You can use `+=`, `-=`, `*= `and `/=` instead of `+`, `-`, `*` and `/`, like above `a += 1` instead of `a = a + 1`. Another operator, `**=`, `%=` or `//=` also work.\n",
        "\n",
        "## **4. List**\n",
        "\n",
        "List is used to storing multiple values. You can store any values of any types in one list(you can store list in list also)."
      ]
    },
    {
      "cell_type": "code",
      "metadata": {
        "id": "T7RzWjMlV_uz",
        "colab_type": "code",
        "colab": {}
      },
      "source": [
        "a = []\n",
        "b = [1, 2, 3, 4, 5]\n",
        "c = ['This', 'cource', 'is', 'ME491']\n",
        "d = [1, 2, 'Good', 'Day']\n",
        "e = [1, 2, ['Good', 'Day']]\n",
        "print(a, b, c, d, e)"
      ],
      "execution_count": null,
      "outputs": []
    },
    {
      "cell_type": "markdown",
      "metadata": {
        "id": "LQnuKkiIWa_c",
        "colab_type": "text"
      },
      "source": [
        "### **List Indexing**\n",
        "\n",
        "In the list `a`, `a[0]` means the first component of the `a` and `a[-1]` indicate that the last component of the `a`.\n",
        "\n",
        "This indexing is also used similarly in the string data type."
      ]
    },
    {
      "cell_type": "code",
      "metadata": {
        "id": "bG18Si49teVa",
        "colab_type": "code",
        "colab": {}
      },
      "source": [
        "a = [1, 2, 3, 4, 5]\n",
        "b = \"12345\"\n",
        "print(a[0], a[1], a[-1])\n",
        "print(b[0], b[1], b[-1])"
      ],
      "execution_count": null,
      "outputs": []
    },
    {
      "cell_type": "markdown",
      "metadata": {
        "id": "m539NjaptopL",
        "colab_type": "text"
      },
      "source": [
        "### **List Slicing**\n",
        "\n",
        "Slicing means getting a part of the list. You can slice the list by using `:`"
      ]
    },
    {
      "cell_type": "code",
      "metadata": {
        "id": "-tfVUs874mRd",
        "colab_type": "code",
        "colab": {}
      },
      "source": [
        "print(a[0:2], a[0:-1], a[-3:-1])\n",
        "print(a[:-2], a[1:])"
      ],
      "execution_count": null,
      "outputs": []
    },
    {
      "cell_type": "markdown",
      "metadata": {
        "id": "ML86Ya338UST",
        "colab_type": "text"
      },
      "source": [
        "### **List Expansion**\n",
        "\n",
        "There are some functions that can modify list data type."
      ]
    },
    {
      "cell_type": "code",
      "metadata": {
        "id": "Jk2pDSjOBm0F",
        "colab_type": "code",
        "colab": {}
      },
      "source": [
        "# you can replace components of the list\n",
        "a[4] = 6\n",
        "print(a)\n",
        "a[:2] = [10, 20]\n",
        "print(a)\n",
        "\n",
        "# you can print out the length of the list by using len() function\n",
        "print(len(a))\n",
        "\n",
        "# you can append the data to the list by using append() method.\n",
        "a.append('bonus')\n",
        "print(a)\n",
        "\n",
        "# id() function returns the address of the variable\n",
        "print(id(a))"
      ],
      "execution_count": null,
      "outputs": []
    },
    {
      "cell_type": "markdown",
      "metadata": {
        "id": "Tgn-iz7uCh4f",
        "colab_type": "text"
      },
      "source": [
        "When you copying the component of the variable, there are 2 ways.\n",
        "\n",
        "1. make new variable that pointing same object with original variable\n",
        "2. make new variable that pointing new object that has same contents with original one.\n",
        "\n",
        "The example below, you may be easiliy understand what's the difference between two ways."
      ]
    },
    {
      "cell_type": "code",
      "metadata": {
        "id": "gabUk8TjxUpo",
        "colab_type": "code",
        "colab": {}
      },
      "source": [
        "list = [1, 2, 3, 4, 5]\n",
        "list1 = list\n",
        "list2 = list[:]\n",
        "list.append(3)\n",
        "print(list1)\n",
        "print(list2)\n",
        "print(id(list1))\n",
        "print(id(list2))"
      ],
      "execution_count": null,
      "outputs": []
    },
    {
      "cell_type": "markdown",
      "metadata": {
        "id": "yPHWxO3GIAJ1",
        "colab_type": "text"
      },
      "source": [
        "## **5. Dictionary and Tuple**\n",
        "\n",
        "### **Tuple**\n",
        "\n",
        "Tuple data type is similar to the list type but there are two big differences.\n",
        "\n",
        "1. list uses `[` and `]` but tuple uses `(` and `)`\n",
        "2. You don't change the contents of the tuple."
      ]
    },
    {
      "cell_type": "code",
      "metadata": {
        "id": "ygjDmmVQJSy7",
        "colab_type": "code",
        "colab": {}
      },
      "source": [
        "print(())\n",
        "print((1,))\n",
        "print((1, 2, 3))"
      ],
      "execution_count": null,
      "outputs": []
    },
    {
      "cell_type": "markdown",
      "metadata": {
        "id": "Mz-D0JLoKAPV",
        "colab_type": "text"
      },
      "source": [
        "\n",
        "Sometimes(mostly when the return value type is tuple) you will use tuple data type without `(` and `)`."
      ]
    },
    {
      "cell_type": "code",
      "metadata": {
        "id": "0-dRgg9DKAzj",
        "colab_type": "code",
        "colab": {}
      },
      "source": [
        "a, b = (1, 2)\n",
        "print(a, b)\n",
        "(a, b) = (1, 2)\n",
        "print(a, b)\n",
        "a = (1, 2)\n",
        "print(a)"
      ],
      "execution_count": null,
      "outputs": []
    },
    {
      "cell_type": "markdown",
      "metadata": {
        "id": "rvM7w5I_KQtv",
        "colab_type": "text"
      },
      "source": [
        "### **Dictionary**\n",
        "\n",
        "Dictionary has two components, key and value. You can assign specific `key` to each values and you can also access to each values by using their specific `key`."
      ]
    },
    {
      "cell_type": "code",
      "metadata": {
        "id": "o6nLFE-3MlJS",
        "colab_type": "code",
        "colab": {}
      },
      "source": [
        "dic = {'name':'SW', 'number':123, 'family':['father', 'mother', 'sister']}\n",
        "print(dic)\n",
        "print(dic['name'])\n",
        "print(dic['number'])\n",
        "print(dic['family'])"
      ],
      "execution_count": null,
      "outputs": []
    }
  ]
}