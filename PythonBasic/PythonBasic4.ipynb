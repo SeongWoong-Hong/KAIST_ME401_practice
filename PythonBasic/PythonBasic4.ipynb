{
  "nbformat": 4,
  "nbformat_minor": 0,
  "metadata": {
    "colab": {
      "name": "PythonBasic4.ipynb",
      "provenance": [],
      "collapsed_sections": [],
      "authorship_tag": "ABX9TyN8e9/WDmd1lxGFYzh22GP5",
      "include_colab_link": true
    },
    "kernelspec": {
      "name": "python3",
      "display_name": "Python 3"
    }
  },
  "cells": [
    {
      "cell_type": "markdown",
      "metadata": {
        "id": "view-in-github",
        "colab_type": "text"
      },
      "source": [
        "<a href=\"https://colab.research.google.com/github/SeongWoong-Hong/TA_session/blob/master/PythonBasic/PythonBasic4.ipynb\" target=\"_parent\"><img src=\"https://colab.research.google.com/assets/colab-badge.svg\" alt=\"Open In Colab\"/></a>"
      ]
    },
    {
      "cell_type": "markdown",
      "metadata": {
        "id": "n1CBrRoxBvGO",
        "colab_type": "text"
      },
      "source": [
        "# **Python Basic 4**\n",
        "\n",
        "This cource based on the Python so briefly introduce the basic concept of the Python first.\n",
        "\n",
        "The expert knowledge about Python is not mandatory. You can take this course whenever have only basic knowledge of Python."
      ]
    },
    {
      "cell_type": "markdown",
      "metadata": {
        "id": "Dt9tMgEFBxxW",
        "colab_type": "text"
      },
      "source": [
        "## **1. Class**\n",
        "\n",
        "Class is a useful way to make an object that has same structure with different values. You already know many classes."
      ]
    },
    {
      "cell_type": "code",
      "metadata": {
        "id": "C25XFplsBe0K",
        "colab_type": "code",
        "colab": {}
      },
      "source": [
        "print(str)\n",
        "print(int)\n",
        "print(list)"
      ],
      "execution_count": null,
      "outputs": []
    },
    {
      "cell_type": "markdown",
      "metadata": {
        "id": "mFfsnDKkBuXs",
        "colab_type": "text"
      },
      "source": [
        "In this example, you can see that the result shows that `<class 'str'>`, `<class 'int'>` and `<class 'list'>`. It means that the data type we already learned last week are all class. Like this data types example, class can make an object that has same property with different value. For example, `1` and `2` are the same class `int`, but their values differ as `1` and `2`.\n",
        "\n",
        "We already learned about the function `type()`, and now we can understand that `type()` returns the class of their input."
      ]
    },
    {
      "cell_type": "code",
      "metadata": {
        "id": "YMHk189kRmAC",
        "colab_type": "code",
        "colab": {}
      },
      "source": [
        "print(type(1))\n",
        "print(type(2))"
      ],
      "execution_count": null,
      "outputs": []
    },
    {
      "cell_type": "markdown",
      "metadata": {
        "id": "iXH0AcS6RtFM",
        "colab_type": "text"
      },
      "source": [
        "The most well-known explanation about class is the breadmaker-bread description. Class is a breadmaker that can make bread continuously and the object that is made by the class is bread. You can make a lot of objects that have the same class like a breadmaker can make a number of breads.\n",
        "\n",
        "Just as breadmaker doesn't change when you slice or bite a bread, the class does not change even if you slightly change your object. In other words, when the breadmaker changes, all the bread from that breadmaker also changes. You can also easily find out from the breadmaker-bread description that objects made by the same class don't affect each other.\n",
        "\n",
        "Each classes has their interner functions and variables called method and attribute. You can call this method by using `object.method()` or `object.attribute`.\n",
        "\n",
        "`list.append()` is a method that we used last week and `list.__len__()` is an example of attribute of the list class."
      ]
    },
    {
      "cell_type": "code",
      "metadata": {
        "id": "DmQqZ6w6bdJ6",
        "colab_type": "code",
        "colab": {}
      },
      "source": [
        "list = [1, 2, 3, 4]\n",
        "list.append(5)\n",
        "print(list)\n",
        "list.__len__()"
      ],
      "execution_count": null,
      "outputs": []
    },
    {
      "cell_type": "markdown",
      "metadata": {
        "id": "0wLilmMpZhef",
        "colab_type": "text"
      },
      "source": [
        "### **Custom Class**\n",
        "\n",
        "You can define your custom class as defining a custom function. When defining attributes for custom class, they use `self.attribute` rule. `self` means the object itself defined by the class.\n",
        "\n",
        "#### **Initializing**\n",
        "\n",
        "`__init__()` is a designated function that executed once when defining an object. It can take input arguments when defining the object. `self` means the object you defined.\n",
        "\n",
        "In the example below, `self.initial` is an attribute for the class `MyCal`"
      ]
    },
    {
      "cell_type": "code",
      "metadata": {
        "id": "sE5Y-sq9c5nt",
        "colab_type": "code",
        "colab": {}
      },
      "source": [
        "class MyCal:\n",
        "  def __init__(self, input):\n",
        "    self.initial = input\n",
        "\n",
        "a = MyCal(4)\n",
        "print(a.initial)"
      ],
      "execution_count": null,
      "outputs": []
    },
    {
      "cell_type": "markdown",
      "metadata": {
        "id": "ddUlKgIMgE9D",
        "colab_type": "text"
      },
      "source": [
        "#### **Method**\n",
        "\n",
        "Defining a method isn't different from defining a function. Let's look at an example of a class that performs four arithmetic operations."
      ]
    },
    {
      "cell_type": "code",
      "metadata": {
        "id": "vXMsGFVFhA5P",
        "colab_type": "code",
        "colab": {}
      },
      "source": [
        "class MyCal:\n",
        "  def __init__(self, a, b):\n",
        "    self.a = a\n",
        "    self.b = b\n",
        "  def add(self):\n",
        "    return self.a + self.b\n",
        "  def diff(self):\n",
        "    return self.a - self.b\n",
        "  def mul(self):\n",
        "    return self.a * self.b\n",
        "  def div(self):\n",
        "    return self.a / self.b\n",
        "\n",
        "obj = MyCal(7, 3)\n",
        "print(obj.add(), obj.diff(), obj.mul(), obj.div())"
      ],
      "execution_count": null,
      "outputs": []
    },
    {
      "cell_type": "markdown",
      "metadata": {
        "id": "tNB39Jswh764",
        "colab_type": "text"
      },
      "source": [
        "#### **Inheritance**\n",
        "\n",
        "One of the important thing in class is inheritance. When you define a new custom class, you can refer an exist class. We call this inheritance and the existing class is called the parent class and the inheriting class is called the child class. The child class has all the same attributes and methods as the parent class.\n",
        "\n",
        "Of course the child class can have the methods or attributes that have same name as their parent class. We call this overriding.\n",
        "\n",
        "This example shows that the `add()` method is changed(overrided) and the other methods of the `MyCal` class isn't changed and can be used in the `MyCal2` class without redefining."
      ]
    },
    {
      "cell_type": "code",
      "metadata": {
        "id": "Esd9kubQlcYV",
        "colab_type": "code",
        "colab": {}
      },
      "source": [
        "class MyCal2(MyCal):\n",
        "  def add(self):\n",
        "    return self.a + self.b + 2\n",
        "\n",
        "obj = MyCal2(7, 3)\n",
        "print(obj.add(), obj.diff(), obj.mul(), obj.div())"
      ],
      "execution_count": null,
      "outputs": []
    },
    {
      "cell_type": "markdown",
      "metadata": {
        "id": "DQ8ZjupLm1Ql",
        "colab_type": "text"
      },
      "source": [
        "If you want to use the parant's method in child class, `super()` can be used. It usually used when defining additional initial values. Let's take the situation that defining additional new variables different from parent class at the child class. Parent's `__init__` is overrided when you define new `__init__` function at the child class so you have to redefine variables of the parent's attributes in the child class to use them in the child class. In this situation, `super()` helps you to do not redefine variables already defined in parent's class by calling the `__init__` function of the parent class.\n",
        "\n",
        "In the example below, you can see that you can use `self.a` and `self.b` attributes even if you don't define them. They are defined in the `__init__` at `MyCal`, parent class, but we overrided `__init__` function to define `self.c` attributes at child class and we did not redefine `self.a` and `self.b`. In here, `super()` calls the `__init__` of `MyCal` class so `self.a` and `self.b` can be used at the `MyCal3` class."
      ]
    },
    {
      "cell_type": "code",
      "metadata": {
        "id": "KabeRQVlnOU5",
        "colab_type": "code",
        "colab": {}
      },
      "source": [
        "class MyCal3(MyCal):\n",
        "  def __init__(self, a, b):\n",
        "    super(MyCal3, self).__init__(a, b)\n",
        "    self.c = self.a + self.b\n",
        "  def print_sum(self):\n",
        "    return self.c\n",
        "\n",
        "obj = MyCal3(7, 3)\n",
        "print(obj.print_sum(), obj.add(), obj.diff(), obj.mul(), obj.div())"
      ],
      "execution_count": null,
      "outputs": []
    }
  ]
}