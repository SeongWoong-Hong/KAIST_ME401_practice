{
  "nbformat": 4,
  "nbformat_minor": 0,
  "metadata": {
    "colab": {
      "name": "PythonBasic3",
      "provenance": [],
      "collapsed_sections": [],
      "authorship_tag": "ABX9TyPy5T+Y9hjNVPIeiuBSeAap",
      "include_colab_link": true
    },
    "kernelspec": {
      "name": "python3",
      "display_name": "Python 3"
    }
  },
  "cells": [
    {
      "cell_type": "markdown",
      "metadata": {
        "id": "view-in-github",
        "colab_type": "text"
      },
      "source": [
        "<a href=\"https://colab.research.google.com/github/SeongWoong-Hong/TA_session/blob/master/PythonBasic/PythonBasic3.ipynb\" target=\"_parent\"><img src=\"https://colab.research.google.com/assets/colab-badge.svg\" alt=\"Open In Colab\"/></a>"
      ]
    },
    {
      "cell_type": "markdown",
      "metadata": {
        "id": "4FqjS1GGCAZ1",
        "colab_type": "text"
      },
      "source": [
        "# **Python Basic 3**\n",
        "\n",
        "This cource based on the Python so briefly introduce the basic concept of the Python first.\n",
        "\n",
        "The expert knowledge about Python is not mandatory. You can take this course whenever have only basic knowledge of Python."
      ]
    },
    {
      "cell_type": "markdown",
      "metadata": {
        "id": "iDSkKMMyCTrO",
        "colab_type": "text"
      },
      "source": [
        "## **1. Function**\n",
        "\n",
        "Functions do something when they are called by typing their name and parentheses. Inside the parentheses, we can pass some arguments too. For example, in `print(\"hello\")`, the function is `print` and the argument of the function is `\"hello\"`.\n",
        "\n",
        "Although `print()` doesn't return anything, there are many functions that return something. In this case, you can handle that returned values by assigning to variables."
      ]
    },
    {
      "cell_type": "markdown",
      "metadata": {
        "id": "MAATrws7F1KX",
        "colab_type": "text"
      },
      "source": [
        "### **Custom Function**\n",
        "\n",
        "When you write your code, sometimes you have to do same thing multiple times. In this situation, the custom function can make your code more easy and clean.\n",
        "\n",
        "Dividing a long program into simple functions also makes the code easier to work with. If there's a problem with the code we can test the functions one by one and find the problem easily.\n",
        "\n",
        "In this tutorial, we'll learn how to define and use the custom funciton. You can write your custom function by using `def`. Please be care for the indentation rule. You can define your custome funciton like `def 'YourFunctionName'` rule. This example show the function that takes two arguments as input and returns one arguemnt. "
      ]
    },
    {
      "cell_type": "code",
      "metadata": {
        "id": "lNRBRftOGKWx",
        "colab_type": "code",
        "colab": {}
      },
      "source": [
        "def add_custom(x, y):\n",
        "  return x + y\n",
        "\n",
        "z = add_custom(3, 4)\n",
        "print(z)"
      ],
      "execution_count": null,
      "outputs": []
    },
    {
      "cell_type": "markdown",
      "metadata": {
        "id": "T7_zIUTJDcpf",
        "colab_type": "text"
      },
      "source": [
        "Unlike this example, you can define the custom function that\n",
        "1. without input arguments and with return values\n",
        "2. with input arguments and without return values\n",
        "3. without input arguments and without return values"
      ]
    },
    {
      "cell_type": "code",
      "metadata": {
        "id": "0vKmvRb4E_QC",
        "colab_type": "code",
        "colab": {}
      },
      "source": [
        "# without input arguments and with return values\n",
        "def Hi():\n",
        "  return \"Hi\"\n",
        "\n",
        "x = Hi()\n",
        "print(x)\n",
        "\n",
        "# with input arguments and without return values\n",
        "def print_sum(x, y):\n",
        "  print(x + y)\n",
        "\n",
        "print_sum(3, 4)\n",
        "\n",
        "# without input arguments and without return values\n",
        "def sayHi():\n",
        "  print(\"Hi\")\n",
        "\n",
        "sayHi()"
      ],
      "execution_count": null,
      "outputs": []
    },
    {
      "cell_type": "markdown",
      "metadata": {
        "id": "_omdsP8ce3O4",
        "colab_type": "text"
      },
      "source": [
        "Also you can change the code below more clean thing."
      ]
    },
    {
      "cell_type": "code",
      "metadata": {
        "id": "9ghtID2dfLFd",
        "colab_type": "code",
        "colab": {}
      },
      "source": [
        "print(\"************\")\n",
        "print(\"Hello World!\")\n",
        "print(\"************\")\n",
        "\n",
        "print(\"*************\")\n",
        "print(\"Enter a word:\")\n",
        "print(\"*************\")\n",
        "\n",
        "word = input()\n",
        "\n",
        "if word == 'python':\n",
        "    print(\"*******************\")\n",
        "    print(\"You entered Python!\")\n",
        "    print(\"*******************\")\n",
        "else:\n",
        "    print(\"**************************\")\n",
        "    print(\"You didn't enter Python :(\")\n",
        "    print(\"**************************\")"
      ],
      "execution_count": null,
      "outputs": []
    },
    {
      "cell_type": "code",
      "metadata": {
        "id": "alFK0sk3fOHb",
        "colab_type": "code",
        "colab": {}
      },
      "source": [
        "def print_box(msg, char=\"*\"):\n",
        "  print(char * len(msg))\n",
        "  print(msg)\n",
        "  print(char * len(msg))\n",
        "\n",
        "print_box(\"Hello World!\")\n",
        "print_box(\"Enter a word:\")\n",
        "word = input()\n",
        "\n",
        "if word == 'python':\n",
        "  print_box(\"You entered Python!\")\n",
        "else:\n",
        "  print_box(\"You didn't enter Python :(\")"
      ],
      "execution_count": null,
      "outputs": []
    },
    {
      "cell_type": "markdown",
      "metadata": {
        "id": "VKwu0jTAgAnh",
        "colab_type": "text"
      },
      "source": [
        "Please note that you can assign a default value when you define the custom function. In the line `def print_box(msg, char=\"*\"):`, `char=\"*\"` means a default value of a local argument `char` is `\"*\"`. You can also assign another value in `char`."
      ]
    },
    {
      "cell_type": "code",
      "metadata": {
        "id": "qkx2hwG3gO4R",
        "colab_type": "code",
        "colab": {}
      },
      "source": [
        "print_box(\"Hello World!\", \"+\")\n",
        "print_box(\"Enter a word:\", \"%\")\n",
        "word = input()\n",
        "\n",
        "if word == 'python':\n",
        "  print_box(\"You entered Python!\", \"@\")\n",
        "else:\n",
        "  print_box(\"You didn't enter Python :(\", \"&\")"
      ],
      "execution_count": null,
      "outputs": []
    }
  ]
}