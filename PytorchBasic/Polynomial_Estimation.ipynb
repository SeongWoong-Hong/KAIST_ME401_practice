{
 "cells": [
  {
   "cell_type": "code",
   "execution_count": null,
   "metadata": {
    "collapsed": true
   },
   "outputs": [],
   "source": [
    "import torch\n",
    "import torch.nn as nn\n",
    "import torch.utils.data\n",
    "import numpy as np\n",
    "import matplotlib.pyplot as plt"
   ]
  },
  {
   "cell_type": "code",
   "execution_count": null,
   "outputs": [],
   "source": [
    "POLY_DEGREE = 4\n",
    "torch.manual_seed(2020)\n",
    "W_target = torch.randn(POLY_DEGREE + 1, 1) * 5"
   ],
   "metadata": {
    "collapsed": false,
    "pycharm": {
     "name": "#%%\n"
    }
   }
  },
  {
   "cell_type": "code",
   "execution_count": null,
   "outputs": [],
   "source": [
    "def poly_desc(W, b):\n",
    "    \"\"\"Creates a string description of a polynomial.\"\"\"\n",
    "    result = 'y = '\n",
    "    for i, w in enumerate(W):\n",
    "        result += '{:+.2f} x^{} '.format(w, len(W) - i)\n",
    "    result += '{:+.2f}'.format(b[0])\n",
    "    return result"
   ],
   "metadata": {
    "collapsed": false,
    "pycharm": {
     "name": "#%%\n"
    }
   }
  },
  {
   "cell_type": "code",
   "execution_count": null,
   "outputs": [],
   "source": [
    "print('==> The real function you should approximate:\\t' + poly_desc(W_target[:-1].view(-1), W_target[-1]))"
   ],
   "metadata": {
    "collapsed": false,
    "pycharm": {
     "name": "#%%\n"
    }
   }
  },
  {
   "cell_type": "code",
   "execution_count": null,
   "outputs": [],
   "source": [
    "def make_features(x):\n",
    "    \"\"\"Builds features i.e. a matrix with columns [x^4, x^3, x^2, x^1].\"\"\"\n",
    "    x = x.unsqueeze(1)\n",
    "    return torch.cat([x ** (POLY_DEGREE+1-i) for i in range(1, POLY_DEGREE+1)], 1)"
   ],
   "metadata": {
    "collapsed": false,
    "pycharm": {
     "name": "#%%\n"
    }
   }
  },
  {
   "cell_type": "code",
   "execution_count": null,
   "outputs": [],
   "source": [
    "def f(x, W):\n",
    "    \"\"\"Approximated function.\"\"\"\n",
    "    return x.mm(W[:-1]) + W[-1]"
   ],
   "metadata": {
    "collapsed": false,
    "pycharm": {
     "name": "#%%\n"
    }
   }
  },
  {
   "cell_type": "code",
   "execution_count": null,
   "outputs": [],
   "source": [
    "def get_dataset(dataset_size):\n",
    "    \"\"\"Builds a batch i.e. (x, f(x)) pair.\"\"\"\n",
    "    random = torch.randn(dataset_size)\n",
    "    x = make_features(random)\n",
    "    y = f(x, W_target)\n",
    "    dataset = list(zip(x, y))\n",
    "    return dataset"
   ],
   "metadata": {
    "collapsed": false,
    "pycharm": {
     "name": "#%%\n"
    }
   }
  },
  {
   "cell_type": "code",
   "execution_count": null,
   "outputs": [],
   "source": [
    "dataset = get_dataset(200) # you can make as many as dataset as you want\n",
    "num_epochs = 1000\n",
    "batch_size = 20\n",
    "learning_rate = 0.05\n",
    "criterion = nn.SmoothL1Loss()"
   ],
   "metadata": {
    "collapsed": false,
    "pycharm": {
     "name": "#%%\n"
    }
   }
  },
  {
   "cell_type": "code",
   "execution_count": null,
   "outputs": [],
   "source": [
    "dataset_loader = torch.utils.data.DataLoader(dataset=dataset, batch_size=batch_size, shuffle=True)"
   ],
   "metadata": {
    "collapsed": false,
    "pycharm": {
     "name": "#%%\n"
    }
   }
  },
  {
   "cell_type": "code",
   "execution_count": null,
   "outputs": [],
   "source": [
    "class Net(nn.Module):\n",
    "    def __init__(self):\n",
    "        super(Net, self).__init__()\n",
    "        self.fc = nn.Linear(POLY_DEGREE, 1)\n",
    "\n",
    "        # For fixing the initial weights and bias\n",
    "        self.fc.weight.data.fill_(0.)\n",
    "        self.fc.bias.data.fill_(0.)\n",
    "    def forward(self, x):\n",
    "        output = self.fc(x)\n",
    "        return output"
   ],
   "metadata": {
    "collapsed": false,
    "pycharm": {
     "name": "#%%\n"
    }
   }
  },
  {
   "cell_type": "code",
   "execution_count": null,
   "outputs": [],
   "source": [
    "def fit(model,loader,criterion,learning_rate,num_epochs):\n",
    "    model.train()\n",
    "    optimizer = torch.optim.SGD(model.parameters(), lr=learning_rate)\n",
    "\n",
    "    loss_values=[]\n",
    "\n",
    "    for epoch in range(num_epochs):\n",
    "\n",
    "        running_loss=0.0\n",
    "        for i, data in enumerate(loader):\n",
    "            if torch.cuda.is_available():\n",
    "                x = data[0].type(torch.FloatTensor).cuda()\n",
    "                y = data[1].type(torch.FloatTensor).cuda()\n",
    "            else:\n",
    "                x = data[0].type(torch.FloatTensor)\n",
    "                y = data[1].type(torch.FloatTensor)\n",
    "\n",
    "            y_hat = model(x)\n",
    "            loss = criterion(y_hat, y)\n",
    "\n",
    "            optimizer.zero_grad()\n",
    "            loss.backward()\n",
    "            optimizer.step()\n",
    "\n",
    "            running_loss += loss.item()\n",
    "\n",
    "        loss_values.append(running_loss)\n",
    "\n",
    "    return loss_values"
   ],
   "metadata": {
    "collapsed": false,
    "pycharm": {
     "name": "#%%\n"
    }
   }
  },
  {
   "cell_type": "code",
   "execution_count": null,
   "outputs": [],
   "source": [
    "def fit2(W, loader,criterion,learning_rate,num_epochs):\n",
    "    loss_values = []\n",
    "    for iter in range(num_epochs):\n",
    "        running_loss = 0.0\n",
    "        for i, data in enumerate(loader):\n",
    "            x, y_tar = data\n",
    "            y = f(x, W)\n",
    "            loss = criterion(y, y_tar)\n",
    "            loss.backward()\n",
    "            with torch.no_grad():\n",
    "                W -= learning_rate * W.grad\n",
    "                W.grad.zero_()\n",
    "            running_loss += loss.item()\n",
    "\n",
    "        loss_values.append(running_loss)\n",
    "\n",
    "    return loss_values"
   ],
   "metadata": {
    "collapsed": false,
    "pycharm": {
     "name": "#%%\n"
    }
   }
  },
  {
   "cell_type": "code",
   "execution_count": null,
   "outputs": [],
   "source": [
    "net = Net().cuda() if torch.cuda.is_available() else Net()\n",
    "W_est = torch.randn(POLY_DEGREE + 1, 1, requires_grad=True)"
   ],
   "metadata": {
    "collapsed": false,
    "pycharm": {
     "name": "#%%\n"
    }
   }
  },
  {
   "cell_type": "code",
   "execution_count": null,
   "outputs": [],
   "source": [
    "loss_values1 = fit(net, dataset_loader,criterion,learning_rate,num_epochs)\n",
    "loss_values2 = fit2(W_est, dataset_loader,criterion,learning_rate,num_epochs)"
   ],
   "metadata": {
    "collapsed": false,
    "pycharm": {
     "name": "#%%\n"
    }
   }
  },
  {
   "cell_type": "code",
   "execution_count": null,
   "outputs": [],
   "source": [
    "print('==> Actual function:\\t' + poly_desc(W_target[:-1].view(-1), W_target[-1]))\n",
    "print('==> Learned function:\\t' + poly_desc(net.fc.weight.data.view(-1), net.fc.bias.data))\n",
    "print('==> Estimated function:\\t' + poly_desc(W_est[:-1].view(-1), W_est[-1]))"
   ],
   "metadata": {
    "collapsed": false,
    "pycharm": {
     "name": "#%%\n"
    }
   }
  }
 ],
 "metadata": {
  "kernelspec": {
   "display_name": "Python 3",
   "language": "python",
   "name": "python3"
  },
  "language_info": {
   "codemirror_mode": {
    "name": "ipython",
    "version": 2
   },
   "file_extension": ".py",
   "mimetype": "text/x-python",
   "name": "python",
   "nbconvert_exporter": "python",
   "pygments_lexer": "ipython2",
   "version": "2.7.6"
  }
 },
 "nbformat": 4,
 "nbformat_minor": 0
}